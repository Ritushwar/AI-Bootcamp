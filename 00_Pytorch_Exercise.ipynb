{
 "cells": [
  {
   "cell_type": "markdown",
   "id": "f8ddefa5-244b-433c-ac14-daa51073d26e",
   "metadata": {},
   "source": [
    "### 1. Create a random tensor with shape(7,7)"
   ]
  },
  {
   "cell_type": "code",
   "execution_count": 3,
   "id": "bc7c9236-a723-4ee4-835b-4d40d80d1e43",
   "metadata": {},
   "outputs": [],
   "source": [
    "import torch\n",
    "import numpy as np"
   ]
  },
  {
   "cell_type": "code",
   "execution_count": 5,
   "id": "c2b7af92-2b13-4ef7-be92-983bf1bd49f5",
   "metadata": {},
   "outputs": [
    {
     "data": {
      "text/plain": [
       "tensor([[0.4772, 0.0027, 0.0214, 0.0466, 0.0160, 0.0135, 0.6997],\n",
       "        [0.2147, 0.7155, 0.2388, 0.1916, 0.3117, 0.8708, 0.1530],\n",
       "        [0.9598, 0.2094, 0.8288, 0.7132, 0.8459, 0.4501, 0.6263],\n",
       "        [0.0961, 0.7240, 0.2824, 0.6750, 0.1813, 0.5723, 0.2313],\n",
       "        [0.4432, 0.2181, 0.0233, 0.8408, 0.1971, 0.8028, 0.0056],\n",
       "        [0.4404, 0.7082, 0.2585, 0.4797, 0.6488, 0.8939, 0.5349],\n",
       "        [0.7797, 0.9270, 0.8879, 0.1383, 0.1814, 0.5082, 0.3171]])"
      ]
     },
     "execution_count": 5,
     "metadata": {},
     "output_type": "execute_result"
    }
   ],
   "source": [
    "random_tensor = torch.rand(size=(7,7))\n",
    "random_tensor"
   ]
  },
  {
   "cell_type": "markdown",
   "id": "46543e81-e390-48c4-8425-ff84bc1f7593",
   "metadata": {},
   "source": [
    "#### 2. Perform a matrix multiplication on the tensor from 2 with another random tensor with shape (1, 7) (hint: you may have to transpose the second tensor)."
   ]
  },
  {
   "cell_type": "code",
   "execution_count": 9,
   "id": "6cbdd850-5a57-4a05-bc2f-74f48b7801ad",
   "metadata": {},
   "outputs": [
    {
     "data": {
      "text/plain": [
       "tensor([[0.9054, 0.2498, 0.5859, 0.9034, 0.4422, 0.0247, 0.0855]])"
      ]
     },
     "execution_count": 9,
     "metadata": {},
     "output_type": "execute_result"
    }
   ],
   "source": [
    "random_tensor2 = torch.rand(1,7)\n",
    "random_tensor2"
   ]
  },
  {
   "cell_type": "code",
   "execution_count": 11,
   "id": "3348d686-f1b4-455c-88cc-0d0bc0001427",
   "metadata": {},
   "outputs": [
    {
     "ename": "RuntimeError",
     "evalue": "mat1 and mat2 shapes cannot be multiplied (7x7 and 1x7)",
     "output_type": "error",
     "traceback": [
      "\u001b[0;31m---------------------------------------------------------------------------\u001b[0m",
      "\u001b[0;31mRuntimeError\u001b[0m                              Traceback (most recent call last)",
      "Cell \u001b[0;32mIn[11], line 1\u001b[0m\n\u001b[0;32m----> 1\u001b[0m torch\u001b[38;5;241m.\u001b[39mmatmul(random_tensor, random_tensor2)\n",
      "\u001b[0;31mRuntimeError\u001b[0m: mat1 and mat2 shapes cannot be multiplied (7x7 and 1x7)"
     ]
    }
   ],
   "source": [
    "torch.matmul(random_tensor, random_tensor2)  #it gives error"
   ]
  },
  {
   "cell_type": "code",
   "execution_count": 13,
   "id": "0ddaae1f-6c67-4184-a09d-4f03adb34df4",
   "metadata": {},
   "outputs": [
    {
     "data": {
      "text/plain": [
       "tensor([[0.5545],\n",
       "        [0.8586],\n",
       "        [2.4900],\n",
       "        [1.1573],\n",
       "        [1.3365],\n",
       "        [1.5152],\n",
       "        [1.7026]])"
      ]
     },
     "execution_count": 13,
     "metadata": {},
     "output_type": "execute_result"
    }
   ],
   "source": [
    "torch.matmul(random_tensor, random_tensor2.T)"
   ]
  },
  {
   "cell_type": "markdown",
   "id": "b96ccb1a-cfa4-4dd2-a399-eb5816b0cb19",
   "metadata": {},
   "source": [
    "#### Set the random seed to 0 and do exercises 2 & 3 over again."
   ]
  },
  {
   "cell_type": "code",
   "execution_count": 18,
   "id": "c374c1f4-b86b-449b-be21-c237167f6e4b",
   "metadata": {},
   "outputs": [
    {
     "name": "stdout",
     "output_type": "stream",
     "text": [
      "tensor([[0.4963, 0.7682, 0.0885, 0.1320, 0.3074, 0.6341, 0.4901],\n",
      "        [0.8964, 0.4556, 0.6323, 0.3489, 0.4017, 0.0223, 0.1689],\n",
      "        [0.2939, 0.5185, 0.6977, 0.8000, 0.1610, 0.2823, 0.6816],\n",
      "        [0.9152, 0.3971, 0.8742, 0.4194, 0.5529, 0.9527, 0.0362],\n",
      "        [0.1852, 0.3734, 0.3051, 0.9320, 0.1759, 0.2698, 0.1507],\n",
      "        [0.0317, 0.2081, 0.9298, 0.7231, 0.7423, 0.5263, 0.2437],\n",
      "        [0.5846, 0.0332, 0.1387, 0.2422, 0.8155, 0.7932, 0.2783]])\n",
      "tensor([[0.4963, 0.7682, 0.0885, 0.1320, 0.3074, 0.6341, 0.4901]])\n"
     ]
    }
   ],
   "source": [
    "RANDOM_SEED = 0\n",
    "torch.manual_seed(seed=RANDOM_SEED)\n",
    "random_tensor_A = torch.rand(size=(7,7))\n",
    "\n",
    "torch.random.manual_seed(seed=RANDOM_SEED)\n",
    "random_tensor_B = torch.rand(size=(1,7))\n",
    "print(random_tensor_A)\n",
    "print(random_tensor_B)"
   ]
  },
  {
   "cell_type": "code",
   "execution_count": 20,
   "id": "15d4a080-a240-4776-9c20-694921b7134b",
   "metadata": {},
   "outputs": [
    {
     "data": {
      "text/plain": [
       "tensor([[1.5985],\n",
       "        [1.1173],\n",
       "        [1.2741],\n",
       "        [1.6838],\n",
       "        [0.8279],\n",
       "        [1.0347],\n",
       "        [1.2498]])"
      ]
     },
     "execution_count": 20,
     "metadata": {},
     "output_type": "execute_result"
    }
   ],
   "source": [
    "torch.matmul(random_tensor_A, random_tensor_B.T)"
   ]
  },
  {
   "cell_type": "markdown",
   "id": "94e95030-6ba5-4fa5-83cd-9333d01263d2",
   "metadata": {},
   "source": [
    "#### Create two random tensors of shape (2, 3), perform a matrix multiplication on the tensors"
   ]
  },
  {
   "cell_type": "code",
   "execution_count": 23,
   "id": "8ad25fca-6d4f-44c6-be68-da5b53bda4c3",
   "metadata": {},
   "outputs": [],
   "source": [
    "torch.manual_seed(1234)\n",
    "random_tensor_C = torch.rand(size=(2,3))\n",
    "\n",
    "torch.random.manual_seed(1234)\n",
    "random_tensor_D = torch.rand(size=(2,3))"
   ]
  },
  {
   "cell_type": "code",
   "execution_count": 25,
   "id": "a6eef06d-d30b-47ec-aa3c-667db4be6cf5",
   "metadata": {},
   "outputs": [
    {
     "data": {
      "text/plain": [
       "tensor([[0.2299, 0.2161],\n",
       "        [0.2161, 0.6287]])"
      ]
     },
     "execution_count": 25,
     "metadata": {},
     "output_type": "execute_result"
    }
   ],
   "source": [
    "final_tensor_A = torch.matmul(random_tensor_C, random_tensor_D.T)\n",
    "final_tensor_A"
   ]
  },
  {
   "cell_type": "markdown",
   "id": "d1e14db9-0920-4a23-8762-6235af59f91e",
   "metadata": {},
   "source": [
    "#### Find the maximum and minimum values of the above output."
   ]
  },
  {
   "cell_type": "code",
   "execution_count": 37,
   "id": "f871aa24-22be-40d8-8a92-634b1458c9f7",
   "metadata": {},
   "outputs": [
    {
     "name": "stdout",
     "output_type": "stream",
     "text": [
      "Maximun: 0.6287278532981873\n",
      "Minimum: 0.21611443161964417\n"
     ]
    }
   ],
   "source": [
    "print(f\"Maximun: {final_tensor_A.max()}\")\n",
    "print(f\"Minimum: {final_tensor_A.min()}\")"
   ]
  },
  {
   "cell_type": "code",
   "execution_count": 53,
   "id": "776a24e6-d795-4058-9039-b2cfc55fa1d8",
   "metadata": {},
   "outputs": [
    {
     "name": "stdout",
     "output_type": "stream",
     "text": [
      "Note: PyTorch flattens the tensor into a 1D array before finding the index of the maximum value.\n",
      "Index of maximum value: 3\n",
      "Index of minimum value: 1\n"
     ]
    }
   ],
   "source": [
    "print(f\"Note: PyTorch flattens the tensor into a 1D array before finding the index of the maximum value.\")\n",
    "print(f\"Index of maximum value: {final_tensor_A.argmax()}\")\n",
    "print(f\"Index of minimum value: {final_tensor_A.argmin()}\")"
   ]
  },
  {
   "cell_type": "markdown",
   "id": "2230eff1-7852-42ac-a7a6-a33ea6f72b64",
   "metadata": {},
   "source": [
    "#### Make a random tensor with shape (1, 1, 1, 10) and then create a new tensor with all the 1 dimensions removed to be left with a tensor of shape (10). Set the seed to 7 when you create it and print out the first tensor and it's shape as well as the second tensor and it's shape."
   ]
  },
  {
   "cell_type": "code",
   "execution_count": 62,
   "id": "661f641b-4165-413b-8acb-8ecfd77e3eaa",
   "metadata": {},
   "outputs": [
    {
     "name": "stdout",
     "output_type": "stream",
     "text": [
      "Previous Tensor: tensor([[[[0.5349, 0.1988, 0.6592, 0.6569, 0.2328, 0.4251, 0.2071, 0.6297,\n",
      "           0.3653, 0.8513]]]])\n",
      "Previous Shape: torch.Size([1, 1, 1, 10])\n"
     ]
    }
   ],
   "source": [
    "torch.manual_seed(7)\n",
    "random_tensor_E = torch.rand(size=(1,1,1,10))\n",
    "print(f\"Previous Tensor: {random_tensor_E}\")\n",
    "print(f\"Previous Shape: {random_tensor_E.shape}\")"
   ]
  },
  {
   "cell_type": "code",
   "execution_count": 64,
   "id": "b3653fc5-5f72-4be2-b694-850583a70467",
   "metadata": {},
   "outputs": [
    {
     "name": "stdout",
     "output_type": "stream",
     "text": [
      "New tensor: tensor([0.5349, 0.1988, 0.6592, 0.6569, 0.2328, 0.4251, 0.2071, 0.6297, 0.3653,\n",
      "        0.8513])\n",
      "New Shape: torch.Size([10])\n"
     ]
    }
   ],
   "source": [
    "random_tensor_E_squeezed = random_tensor_E.squeeze()\n",
    "print(f\"New tensor: {random_tensor_E_squeezed}\")\n",
    "print(f\"New Shape: {random_tensor_E_squeezed.shape}\")"
   ]
  },
  {
   "cell_type": "code",
   "execution_count": null,
   "id": "5a567637-0d64-4cbb-9f69-610606e627a3",
   "metadata": {},
   "outputs": [],
   "source": []
  }
 ],
 "metadata": {
  "kernelspec": {
   "display_name": "Python 3 (ipykernel)",
   "language": "python",
   "name": "python3"
  },
  "language_info": {
   "codemirror_mode": {
    "name": "ipython",
    "version": 3
   },
   "file_extension": ".py",
   "mimetype": "text/x-python",
   "name": "python",
   "nbconvert_exporter": "python",
   "pygments_lexer": "ipython3",
   "version": "3.12.4"
  }
 },
 "nbformat": 4,
 "nbformat_minor": 5
}

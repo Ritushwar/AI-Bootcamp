{
 "cells": [
  {
   "cell_type": "markdown",
   "metadata": {},
   "source": [
    "# Python Basic\n",
    "### Documentation/Comments"
   ]
  },
  {
   "cell_type": "code",
   "execution_count": 1,
   "metadata": {},
   "outputs": [
    {
     "name": "stdout",
     "output_type": "stream",
     "text": [
      "Hello, World!\n"
     ]
    }
   ],
   "source": [
    "# This is a single-line comment\n",
    "\"\"\" This is a multiline comment or docstring.\n",
    "    Commonly used for documentation. \"\"\"\n",
    "print(\"Hello, World!\")  # THis print Hello, World!"
   ]
  },
  {
   "cell_type": "markdown",
   "metadata": {},
   "source": [
    "### Variables and Data Types"
   ]
  },
  {
   "cell_type": "code",
   "execution_count": 4,
   "metadata": {},
   "outputs": [
    {
     "name": "stdout",
     "output_type": "stream",
     "text": [
      "X: 5, Type: <class 'int'>\n",
      "Y: 3.142, Type: <class 'float'>\n",
      "Name: Jarvis, Type: <class 'str'>\n",
      "Is_Virtual_assistant: True, Type: <class 'bool'>\n"
     ]
    }
   ],
   "source": [
    "# Variable assignment\n",
    "x = 5      # int\n",
    "y = 3.142  # float\n",
    "name = \"Jarvis\" # String\n",
    "is_virtual_assistants = True #boolean\n",
    "print(f\"X: {x}, Type: {type(x)}\")\n",
    "print(f\"Y: {y}, Type: {type(y)}\")\n",
    "print(f\"Name: {name}, Type: {type(name)}\")\n",
    "print(f\"Is_Virtual_assistant: {is_virtual_assistants}, Type: {type(is_virtual_assistants)}\")"
   ]
  },
  {
   "cell_type": "code",
   "execution_count": 5,
   "metadata": {},
   "outputs": [
    {
     "name": "stdout",
     "output_type": "stream",
     "text": [
      "X: 5.0, Type: <class 'float'>\n",
      "Y: 3, Type: <class 'int'>\n"
     ]
    }
   ],
   "source": [
    "# Type conversion\n",
    "x = float(x)  # Convert int into float\n",
    "y = int(y)    # Convert float into int\n",
    "print(f\"X: {x}, Type: {type(x)}\")\n",
    "print(f\"Y: {y}, Type: {type(y)}\")"
   ]
  },
  {
   "cell_type": "markdown",
   "metadata": {},
   "source": [
    "### Operators\n",
    "#### Arithmetic Operator"
   ]
  },
  {
   "cell_type": "code",
   "execution_count": 6,
   "metadata": {},
   "outputs": [
    {
     "name": "stdout",
     "output_type": "stream",
     "text": [
      "13\n",
      "7\n",
      "30\n",
      "3.3333333333333335\n",
      "1\n",
      "1000\n",
      "3\n"
     ]
    }
   ],
   "source": [
    "a = 10\n",
    "b = 3\n",
    "print(a + b)\n",
    "print(a - b)\n",
    "print(a * b)\n",
    "print(a / b)\n",
    "print(a % b)\n",
    "print(a ** b)\n",
    "print(a // b)  #Floor division"
   ]
  },
  {
   "cell_type": "markdown",
   "metadata": {},
   "source": [
    "### Comparision Operator"
   ]
  },
  {
   "cell_type": "code",
   "execution_count": 7,
   "metadata": {},
   "outputs": [
    {
     "name": "stdout",
     "output_type": "stream",
     "text": [
      "False\n",
      "True\n",
      "True\n",
      "False\n",
      "True\n",
      "False\n"
     ]
    }
   ],
   "source": [
    "a = 10\n",
    "b = 3\n",
    "print(a == b)\n",
    "print(a != b)\n",
    "print(a > b)\n",
    "print(a < b)\n",
    "print(a >= b)\n",
    "print(a <= b)"
   ]
  },
  {
   "cell_type": "code",
   "execution_count": 8,
   "metadata": {},
   "outputs": [
    {
     "name": "stdout",
     "output_type": "stream",
     "text": [
      "False\n",
      "True\n",
      "False\n"
     ]
    }
   ],
   "source": [
    "# Logical Operators\n",
    "a = True\n",
    "b= False\n",
    "print(a and b)\n",
    "print(a or b)\n",
    "print(not a)"
   ]
  },
  {
   "cell_type": "code",
   "execution_count": 9,
   "metadata": {},
   "outputs": [
    {
     "name": "stdout",
     "output_type": "stream",
     "text": [
      "8\n",
      "6\n",
      "24\n",
      "8.0\n"
     ]
    }
   ],
   "source": [
    "# Assignment Operator\n",
    "a = 5\n",
    "a += 3  # a = a + 3\n",
    "print(a)\n",
    "a -= 2  # a = a - 2\n",
    "print(a)\n",
    "a *= 4  # a = a * 4\n",
    "print(a)\n",
    "a /= 3  # a = a / 3\n",
    "print(a)"
   ]
  },
  {
   "cell_type": "code",
   "execution_count": 11,
   "metadata": {},
   "outputs": [
    {
     "name": "stdout",
     "output_type": "stream",
     "text": [
      "1\n",
      "7\n",
      "6\n",
      "-6\n",
      "10\n",
      "2\n"
     ]
    }
   ],
   "source": [
    "# Bitwise operator\n",
    "a = 5    # Binary 101\n",
    "b = 3    # Binary 011\n",
    "print(a & b)  # Bitwise AND: 001\n",
    "print(a | b)  # Bitwise OR: 111\n",
    "print(a ^ b)  # Bitwise XOR: If both are same output is 0 otherwise 1: 110\n",
    "print(~a)     # Bitwise NOT: \n",
    "print(a << 1) # Bitwise left shift: 1010\n",
    "print(a >> 1) # Bitwise right shift: 010"
   ]
  },
  {
   "cell_type": "markdown",
   "metadata": {},
   "source": [
    "### Control Flow"
   ]
  },
  {
   "cell_type": "code",
   "execution_count": 12,
   "metadata": {},
   "outputs": [
    {
     "name": "stdout",
     "output_type": "stream",
     "text": [
      "X is positive\n"
     ]
    }
   ],
   "source": [
    "# Conditional Statements\n",
    "x = 10\n",
    "if x > 0:\n",
    "    print(f\"X is positive\")\n",
    "elif x == 0:\n",
    "    print(f\"X is negative\")\n",
    "else:\n",
    "    print(f\"X is negative\")"
   ]
  },
  {
   "cell_type": "code",
   "execution_count": 13,
   "metadata": {},
   "outputs": [
    {
     "name": "stdout",
     "output_type": "stream",
     "text": [
      "For loops\n",
      "0\n",
      "1\n",
      "2\n",
      "3\n",
      "4\n",
      "\n",
      "While loop\n",
      "0\n",
      "1\n",
      "2\n",
      "3\n",
      "4\n"
     ]
    }
   ],
   "source": [
    "# Loops\n",
    "print(f\"For loops\")\n",
    "for i in range(5):\n",
    "    print(i)\n",
    "\n",
    "print(f\"\\nWhile loop\")\n",
    "i = 0\n",
    "while i<5:\n",
    "    print(i)\n",
    "    i+=1"
   ]
  },
  {
   "cell_type": "code",
   "execution_count": 16,
   "metadata": {},
   "outputs": [
    {
     "name": "stdout",
     "output_type": "stream",
     "text": [
      "\n",
      "Break\n",
      "0\n",
      "1\n",
      "2\n",
      "\n",
      " Continue\n",
      "0\n",
      "1\n",
      "2\n",
      "4\n",
      "\n",
      " Pass\n",
      "0\n",
      "1\n",
      "2\n",
      "3\n",
      "4\n"
     ]
    }
   ],
   "source": [
    "# break, continue, and pass\n",
    "print(f\"\\nBreak\")\n",
    "for i in range(5):\n",
    "    if i == 3:\n",
    "        break   # exit the loop when i = 3\n",
    "    print(i)\n",
    "\n",
    "print(f\"\\n Continue\")\n",
    "for i in range(5):\n",
    "    if i == 3:\n",
    "        continue # skip the rest if the loop when i is 3\n",
    "    print(i)\n",
    "\n",
    "print(f\"\\n Pass\")\n",
    "for i in range(5):\n",
    "    if i == 3:  \n",
    "        pass    # Do nothing and continue\n",
    "    print(i)"
   ]
  },
  {
   "cell_type": "code",
   "execution_count": 21,
   "metadata": {},
   "outputs": [
    {
     "name": "stdout",
     "output_type": "stream",
     "text": [
      "Hello,Jarvis!\n",
      "8\n",
      "10\n"
     ]
    }
   ],
   "source": [
    "# Functions\n",
    "# Defining a function\n",
    "def greet(name):\n",
    "    return f\"Hello,{name}!\"\n",
    "\n",
    "# Function arguments\n",
    "def add(a, b=5):\n",
    "    return a + b\n",
    "\n",
    "print(greet(\"Jarvis\"))\n",
    "print(add(3))\n",
    "print(add(3,7))"
   ]
  },
  {
   "cell_type": "code",
   "execution_count": null,
   "metadata": {},
   "outputs": [],
   "source": []
  },
  {
   "cell_type": "code",
   "execution_count": 22,
   "metadata": {},
   "outputs": [
    {
     "name": "stdout",
     "output_type": "stream",
     "text": [
      "12\n"
     ]
    }
   ],
   "source": [
    "# Lamda Functions\n",
    "multiply = lambda x, y: x * y\n",
    "print(multiply(3,4))"
   ]
  },
  {
   "cell_type": "markdown",
   "metadata": {},
   "source": [
    "### Data Structure"
   ]
  },
  {
   "cell_type": "code",
   "execution_count": 26,
   "metadata": {},
   "outputs": [
    {
     "name": "stdout",
     "output_type": "stream",
     "text": [
      "Kathmandu Chitwan\n",
      "['Kathmandu', 'Pokhara', 'Butwal', 'Chitwan', 'Trisuli']\n",
      "['Kathmandu', 'Pokhara', 'Chitwan', 'Trisuli']\n"
     ]
    }
   ],
   "source": [
    "# Lists\n",
    "# Creting and manipulating list\n",
    "city = [\"Kathmandu\", \"Pokhara\", \"Butwal\", \"Chitwan\"]\n",
    "print(city[0], city[3])\n",
    "# print(city[5])  index error\n",
    "city.append(\"Trisuli\")\n",
    "print(city)\n",
    "city.remove(\"Butwal\")\n",
    "print(city)"
   ]
  },
  {
   "cell_type": "code",
   "execution_count": 27,
   "metadata": {},
   "outputs": [
    {
     "name": "stdout",
     "output_type": "stream",
     "text": [
      "[0, 1, 4, 9, 16]\n"
     ]
    }
   ],
   "source": [
    "# List Comprehensions\n",
    "squares = [x**2 for x in range(5)]\n",
    "print(squares)"
   ]
  },
  {
   "cell_type": "code",
   "execution_count": 29,
   "metadata": {},
   "outputs": [
    {
     "name": "stdout",
     "output_type": "stream",
     "text": [
      "2\n",
      "Tuples are immutable: You cannot modify them directly\n"
     ]
    }
   ],
   "source": [
    "# Tuples\n",
    "# Creating and manipulating tuples\n",
    "point = (2,3)\n",
    "print(point[0])\n",
    "print(f\"Tuples are immutable: You cannot modify them directly\")"
   ]
  },
  {
   "cell_type": "code",
   "execution_count": 32,
   "metadata": {},
   "outputs": [
    {
     "name": "stdout",
     "output_type": "stream",
     "text": [
      "Jarvis\n",
      "{'Name': 'Jarvis', 'Age': 21}\n",
      "{'Name': 'Jarvis', 'Age': 21, 'City': 'Pokhara'}\n"
     ]
    }
   ],
   "source": [
    "# Dictionaries\n",
    "# Creating and Manipulating dictionaries\n",
    "person = {\"Name\":\"Jarvis\", \"Age\":22}\n",
    "print(person[\"Name\"])   # Accessing the value using key\n",
    "person[\"Age\"] = 21\n",
    "print(person)\n",
    "person[\"City\"] = \"Pokhara\"\n",
    "print(person)"
   ]
  },
  {
   "cell_type": "code",
   "execution_count": 35,
   "metadata": {},
   "outputs": [
    {
     "name": "stdout",
     "output_type": "stream",
     "text": [
      "True\n",
      "{'green', 'blue', 'red'}\n",
      "{'blue', 'red'}\n"
     ]
    }
   ],
   "source": [
    "# Sets\n",
    "# Creating and manipulating sets\n",
    "colors = {\"red\", \"green\", \"blue\"}\n",
    "print(\"red\" in colors)    # Check the particular value\n",
    "print(colors)\n",
    "colors.remove(\"green\")\n",
    "print(colors)"
   ]
  },
  {
   "cell_type": "markdown",
   "metadata": {},
   "source": [
    "### Strings"
   ]
  },
  {
   "cell_type": "code",
   "execution_count": 2,
   "metadata": {},
   "outputs": [
    {
     "name": "stdout",
     "output_type": "stream",
     "text": [
      "HELLO, WORLD\n",
      "hello, world\n",
      "['Hello,', 'World']\n",
      "HelloWorld\n",
      "My name is Jarvis and I am 25 years old.\n"
     ]
    }
   ],
   "source": [
    "# String operation and method\n",
    "greeting = \"Hello, World\"\n",
    "print(greeting.upper())\n",
    "print(greeting.lower())\n",
    "print(greeting.split())\n",
    "print(\" \".join([\"Hello\", \"World\"]))\n",
    "\n",
    "# String Format\n",
    "name = \"Jarvis\"\n",
    "age = 25\n",
    "print(f\"My name is {name} and I am {age} years old.\")"
   ]
  },
  {
   "cell_type": "code",
   "execution_count": 3,
   "metadata": {},
   "outputs": [
    {
     "name": "stdout",
     "output_type": "stream",
     "text": [
      "Hello, Jarvis!\n"
     ]
    }
   ],
   "source": [
    "# Input and output\n",
    "name = input(\"Enter your name: \")\n",
    "print(f\"Hello, {name}!\")"
   ]
  },
  {
   "cell_type": "code",
   "execution_count": 4,
   "metadata": {},
   "outputs": [],
   "source": [
    "# File I/O operations\n",
    "# Writing to a file\n",
    "with open(\"testing.txt\", \"w\") as f:\n",
    "    f.write(\"Hello World\")"
   ]
  },
  {
   "cell_type": "code",
   "execution_count": 5,
   "metadata": {},
   "outputs": [
    {
     "name": "stdout",
     "output_type": "stream",
     "text": [
      "Hello World\n"
     ]
    }
   ],
   "source": [
    "# Reading from a file\n",
    "with open(\"testing.txt\",\"r\") as f:\n",
    "    content = f.read()\n",
    "    print(content)"
   ]
  },
  {
   "cell_type": "markdown",
   "metadata": {},
   "source": [
    "### Modules and Packages"
   ]
  },
  {
   "cell_type": "code",
   "execution_count": 6,
   "metadata": {},
   "outputs": [
    {
     "name": "stdout",
     "output_type": "stream",
     "text": [
      "4.0\n"
     ]
    }
   ],
   "source": [
    "# import modules\n",
    "import math\n",
    "print(math.sqrt(16))"
   ]
  },
  {
   "cell_type": "code",
   "execution_count": 7,
   "metadata": {},
   "outputs": [
    {
     "name": "stdout",
     "output_type": "stream",
     "text": [
      "/home/ritushwar/AI-Bootcamp/Python_Basic\n"
     ]
    }
   ],
   "source": [
    "# Standard library overview\n",
    "import os\n",
    "print(os.getcwd())"
   ]
  },
  {
   "cell_type": "code",
   "execution_count": 8,
   "metadata": {},
   "outputs": [
    {
     "name": "stdout",
     "output_type": "stream",
     "text": [
      "Hello from my_module!\n"
     ]
    }
   ],
   "source": [
    "# Import user defined module\n",
    "import my_module\n",
    "my_module.hello()"
   ]
  },
  {
   "cell_type": "markdown",
   "metadata": {},
   "source": [
    "### Error Handling"
   ]
  },
  {
   "cell_type": "code",
   "execution_count": 9,
   "metadata": {},
   "outputs": [
    {
     "name": "stdout",
     "output_type": "stream",
     "text": [
      "Cannot divide by Zero!\n",
      "This block always executed\n"
     ]
    }
   ],
   "source": [
    "try:\n",
    "    result = 10 / 0\n",
    "except ZeroDivisionError:\n",
    "    print(\"Cannot divide by Zero!\")\n",
    "else:\n",
    "    print(\"Division Successfully\")\n",
    "finally:\n",
    "    print(\"This block always executed\")\n"
   ]
  },
  {
   "cell_type": "code",
   "execution_count": 10,
   "metadata": {},
   "outputs": [
    {
     "name": "stdout",
     "output_type": "stream",
     "text": [
      "Cannot divide by Zero!\n"
     ]
    }
   ],
   "source": [
    "# Raising Exceptions\n",
    "def divide(a,b):\n",
    "    if b==0:\n",
    "        raise ValueError(\"Cannot divide by Zero!\")\n",
    "    return a/b\n",
    "\n",
    "try:\n",
    "    divide(10,0)\n",
    "except ValueError as e:\n",
    "    print(e)"
   ]
  },
  {
   "cell_type": "code",
   "execution_count": 8,
   "metadata": {},
   "outputs": [
    {
     "name": "stdout",
     "output_type": "stream",
     "text": [
      "Hello, Jarvis\n"
     ]
    }
   ],
   "source": [
    "import sys\n",
    "import os\n",
    "\n",
    "# Add the mypackages directory to sys.path\n",
    "sys.path.append(os.path.abspath(\"/home/ritushwar/AI-Bootcamp/mypackages\"))\n",
    "\n",
    "import my_modules as mm\n",
    "mm.greet(\"Jarvis\")"
   ]
  }
 ],
 "metadata": {
  "kernelspec": {
   "display_name": "Python (myenv)",
   "language": "python",
   "name": ".venv"
  },
  "language_info": {
   "codemirror_mode": {
    "name": "ipython",
    "version": 3
   },
   "file_extension": ".py",
   "mimetype": "text/x-python",
   "name": "python",
   "nbconvert_exporter": "python",
   "pygments_lexer": "ipython3",
   "version": "3.12.3"
  }
 },
 "nbformat": 4,
 "nbformat_minor": 2
}
